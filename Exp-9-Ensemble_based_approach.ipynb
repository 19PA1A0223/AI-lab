{
  "nbformat": 4,
  "nbformat_minor": 0,
  "metadata": {
    "kernelspec": {
      "display_name": "Python 3",
      "language": "python",
      "name": "python3"
    },
    "language_info": {
      "codemirror_mode": {
        "name": "ipython",
        "version": 3
      },
      "file_extension": ".py",
      "mimetype": "text/x-python",
      "name": "python",
      "nbconvert_exporter": "python",
      "pygments_lexer": "ipython3",
      "version": "3.8.3"
    },
    "colab": {
      "name": "Ensemble based approach.ipynb",
      "provenance": [],
      "include_colab_link": true
    }
  },
  "cells": [
    {
      "cell_type": "markdown",
      "metadata": {
        "id": "view-in-github",
        "colab_type": "text"
      },
      "source": [
        "<a href=\"https://colab.research.google.com/github/19PA1A0223/AI-lab/blob/main/Exp-9-Ensemble_based_approach.ipynb\" target=\"_parent\"><img src=\"https://colab.research.google.com/assets/colab-badge.svg\" alt=\"Open In Colab\"/></a>"
      ]
    },
    {
      "cell_type": "markdown",
      "metadata": {
        "id": "vNKTGqe9chtr"
      },
      "source": [
        "# Ensemble based approaches"
      ]
    },
    {
      "cell_type": "markdown",
      "metadata": {
        "id": "sUU0Awpjchtu"
      },
      "source": [
        "## 1) Import the packages"
      ]
    },
    {
      "cell_type": "code",
      "metadata": {
        "id": "kZeTbdk_chtu"
      },
      "source": [
        "import numpy as np\n",
        "import pandas as pd\n",
        "from sklearn.model_selection import train_test_split\n",
        "from sklearn.ensemble import RandomForestClassifier\n",
        "from sklearn.ensemble import AdaBoostClassifier\n",
        "from sklearn.tree import DecisionTreeClassifier\n",
        "from sklearn import metrics"
      ],
      "execution_count": null,
      "outputs": []
    },
    {
      "cell_type": "markdown",
      "metadata": {
        "id": "Grxg4em3chtv"
      },
      "source": [
        "## 2) Import the dataset"
      ]
    },
    {
      "cell_type": "code",
      "metadata": {
        "id": "1K4TARbzchtv",
        "outputId": "185be9c3-6e89-4ff4-dc21-368f9a9f3021"
      },
      "source": [
        "dataset=pd.read_csv(\"students_placement_data.csv\")\n",
        "dataset.head()"
      ],
      "execution_count": null,
      "outputs": [
        {
          "output_type": "execute_result",
          "data": {
            "text/html": [
              "<div>\n",
              "<style scoped>\n",
              "    .dataframe tbody tr th:only-of-type {\n",
              "        vertical-align: middle;\n",
              "    }\n",
              "\n",
              "    .dataframe tbody tr th {\n",
              "        vertical-align: top;\n",
              "    }\n",
              "\n",
              "    .dataframe thead th {\n",
              "        text-align: right;\n",
              "    }\n",
              "</style>\n",
              "<table border=\"1\" class=\"dataframe\">\n",
              "  <thead>\n",
              "    <tr style=\"text-align: right;\">\n",
              "      <th></th>\n",
              "      <th>Roll No</th>\n",
              "      <th>Gender</th>\n",
              "      <th>Section</th>\n",
              "      <th>SSC Percentage</th>\n",
              "      <th>inter_Diploma_percentage</th>\n",
              "      <th>B.Tech_percentage</th>\n",
              "      <th>Backlogs</th>\n",
              "      <th>registered_for_ Placement_Training</th>\n",
              "      <th>placement status</th>\n",
              "    </tr>\n",
              "  </thead>\n",
              "  <tbody>\n",
              "    <tr>\n",
              "      <th>0</th>\n",
              "      <td>1</td>\n",
              "      <td>M</td>\n",
              "      <td>A</td>\n",
              "      <td>87.3</td>\n",
              "      <td>65.3</td>\n",
              "      <td>40.00</td>\n",
              "      <td>18</td>\n",
              "      <td>NO</td>\n",
              "      <td>Not placed</td>\n",
              "    </tr>\n",
              "    <tr>\n",
              "      <th>1</th>\n",
              "      <td>2</td>\n",
              "      <td>F</td>\n",
              "      <td>A</td>\n",
              "      <td>89.0</td>\n",
              "      <td>92.4</td>\n",
              "      <td>71.45</td>\n",
              "      <td>0</td>\n",
              "      <td>yes</td>\n",
              "      <td>Placed</td>\n",
              "    </tr>\n",
              "    <tr>\n",
              "      <th>2</th>\n",
              "      <td>3</td>\n",
              "      <td>F</td>\n",
              "      <td>A</td>\n",
              "      <td>67.0</td>\n",
              "      <td>68.0</td>\n",
              "      <td>45.26</td>\n",
              "      <td>13</td>\n",
              "      <td>yes</td>\n",
              "      <td>Not placed</td>\n",
              "    </tr>\n",
              "    <tr>\n",
              "      <th>3</th>\n",
              "      <td>4</td>\n",
              "      <td>M</td>\n",
              "      <td>A</td>\n",
              "      <td>71.0</td>\n",
              "      <td>70.4</td>\n",
              "      <td>36.47</td>\n",
              "      <td>17</td>\n",
              "      <td>yes</td>\n",
              "      <td>Not placed</td>\n",
              "    </tr>\n",
              "    <tr>\n",
              "      <th>4</th>\n",
              "      <td>5</td>\n",
              "      <td>M</td>\n",
              "      <td>A</td>\n",
              "      <td>NaN</td>\n",
              "      <td>65.5</td>\n",
              "      <td>42.52</td>\n",
              "      <td>17</td>\n",
              "      <td>yes</td>\n",
              "      <td>Not placed</td>\n",
              "    </tr>\n",
              "  </tbody>\n",
              "</table>\n",
              "</div>"
            ],
            "text/plain": [
              "   Roll No Gender Section  SSC Percentage  inter_Diploma_percentage  \\\n",
              "0        1      M       A            87.3                      65.3   \n",
              "1        2      F       A            89.0                      92.4   \n",
              "2        3      F       A            67.0                      68.0   \n",
              "3        4      M       A            71.0                      70.4   \n",
              "4        5      M       A             NaN                      65.5   \n",
              "\n",
              "   B.Tech_percentage  Backlogs registered_for_ Placement_Training  \\\n",
              "0              40.00        18                                 NO   \n",
              "1              71.45         0                                yes   \n",
              "2              45.26        13                                yes   \n",
              "3              36.47        17                                yes   \n",
              "4              42.52        17                                yes   \n",
              "\n",
              "  placement status  \n",
              "0       Not placed  \n",
              "1           Placed  \n",
              "2       Not placed  \n",
              "3       Not placed  \n",
              "4       Not placed  "
            ]
          },
          "metadata": {
            "tags": []
          },
          "execution_count": 94
        }
      ]
    },
    {
      "cell_type": "markdown",
      "metadata": {
        "id": "UhZWxauPchtw"
      },
      "source": [
        "## 3) Data preprocessing "
      ]
    },
    {
      "cell_type": "markdown",
      "metadata": {
        "id": "eDmqrB9rchtx"
      },
      "source": [
        "### 3.1) Check for missing values and fill it"
      ]
    },
    {
      "cell_type": "code",
      "metadata": {
        "id": "RKRZO9Bhchtx",
        "outputId": "b898d822-1c4b-4cee-cc47-eb2e61c66a31"
      },
      "source": [
        "dataset.isna().any()"
      ],
      "execution_count": null,
      "outputs": [
        {
          "output_type": "execute_result",
          "data": {
            "text/plain": [
              "Roll No                               False\n",
              "Gender                                False\n",
              "Section                               False\n",
              "SSC Percentage                         True\n",
              "inter_Diploma_percentage              False\n",
              "B.Tech_percentage                     False\n",
              "Backlogs                              False\n",
              "registered_for_ Placement_Training     True\n",
              "placement status                      False\n",
              "dtype: bool"
            ]
          },
          "metadata": {
            "tags": []
          },
          "execution_count": 95
        }
      ]
    },
    {
      "cell_type": "markdown",
      "metadata": {
        "id": "cGrETbjvchtx"
      },
      "source": [
        "We see that \"SSC Percentage\" and \"registered_for_ Placement_Training\" are having missing values"
      ]
    },
    {
      "cell_type": "markdown",
      "metadata": {
        "id": "3po71RZkchty"
      },
      "source": [
        "### 3.1.1) We replace the missing values in \"SSC Percentage\" with mean SSC percentage of all students."
      ]
    },
    {
      "cell_type": "code",
      "metadata": {
        "id": "LjnkrHBmchty",
        "outputId": "bbc234e6-0c4a-481b-9a7a-cbbdd1890f0a"
      },
      "source": [
        "dataset[\"SSC Percentage\"]=dataset[\"SSC Percentage\"].replace(to_replace=np.nan,value=dataset[\"SSC Percentage\"].mean())  \n",
        "dataset.head()"
      ],
      "execution_count": null,
      "outputs": [
        {
          "output_type": "execute_result",
          "data": {
            "text/html": [
              "<div>\n",
              "<style scoped>\n",
              "    .dataframe tbody tr th:only-of-type {\n",
              "        vertical-align: middle;\n",
              "    }\n",
              "\n",
              "    .dataframe tbody tr th {\n",
              "        vertical-align: top;\n",
              "    }\n",
              "\n",
              "    .dataframe thead th {\n",
              "        text-align: right;\n",
              "    }\n",
              "</style>\n",
              "<table border=\"1\" class=\"dataframe\">\n",
              "  <thead>\n",
              "    <tr style=\"text-align: right;\">\n",
              "      <th></th>\n",
              "      <th>Roll No</th>\n",
              "      <th>Gender</th>\n",
              "      <th>Section</th>\n",
              "      <th>SSC Percentage</th>\n",
              "      <th>inter_Diploma_percentage</th>\n",
              "      <th>B.Tech_percentage</th>\n",
              "      <th>Backlogs</th>\n",
              "      <th>registered_for_ Placement_Training</th>\n",
              "      <th>placement status</th>\n",
              "    </tr>\n",
              "  </thead>\n",
              "  <tbody>\n",
              "    <tr>\n",
              "      <th>0</th>\n",
              "      <td>1</td>\n",
              "      <td>M</td>\n",
              "      <td>A</td>\n",
              "      <td>87.300000</td>\n",
              "      <td>65.3</td>\n",
              "      <td>40.00</td>\n",
              "      <td>18</td>\n",
              "      <td>NO</td>\n",
              "      <td>Not placed</td>\n",
              "    </tr>\n",
              "    <tr>\n",
              "      <th>1</th>\n",
              "      <td>2</td>\n",
              "      <td>F</td>\n",
              "      <td>A</td>\n",
              "      <td>89.000000</td>\n",
              "      <td>92.4</td>\n",
              "      <td>71.45</td>\n",
              "      <td>0</td>\n",
              "      <td>yes</td>\n",
              "      <td>Placed</td>\n",
              "    </tr>\n",
              "    <tr>\n",
              "      <th>2</th>\n",
              "      <td>3</td>\n",
              "      <td>F</td>\n",
              "      <td>A</td>\n",
              "      <td>67.000000</td>\n",
              "      <td>68.0</td>\n",
              "      <td>45.26</td>\n",
              "      <td>13</td>\n",
              "      <td>yes</td>\n",
              "      <td>Not placed</td>\n",
              "    </tr>\n",
              "    <tr>\n",
              "      <th>3</th>\n",
              "      <td>4</td>\n",
              "      <td>M</td>\n",
              "      <td>A</td>\n",
              "      <td>71.000000</td>\n",
              "      <td>70.4</td>\n",
              "      <td>36.47</td>\n",
              "      <td>17</td>\n",
              "      <td>yes</td>\n",
              "      <td>Not placed</td>\n",
              "    </tr>\n",
              "    <tr>\n",
              "      <th>4</th>\n",
              "      <td>5</td>\n",
              "      <td>M</td>\n",
              "      <td>A</td>\n",
              "      <td>80.474569</td>\n",
              "      <td>65.5</td>\n",
              "      <td>42.52</td>\n",
              "      <td>17</td>\n",
              "      <td>yes</td>\n",
              "      <td>Not placed</td>\n",
              "    </tr>\n",
              "  </tbody>\n",
              "</table>\n",
              "</div>"
            ],
            "text/plain": [
              "   Roll No Gender Section  SSC Percentage  inter_Diploma_percentage  \\\n",
              "0        1      M       A       87.300000                      65.3   \n",
              "1        2      F       A       89.000000                      92.4   \n",
              "2        3      F       A       67.000000                      68.0   \n",
              "3        4      M       A       71.000000                      70.4   \n",
              "4        5      M       A       80.474569                      65.5   \n",
              "\n",
              "   B.Tech_percentage  Backlogs registered_for_ Placement_Training  \\\n",
              "0              40.00        18                                 NO   \n",
              "1              71.45         0                                yes   \n",
              "2              45.26        13                                yes   \n",
              "3              36.47        17                                yes   \n",
              "4              42.52        17                                yes   \n",
              "\n",
              "  placement status  \n",
              "0       Not placed  \n",
              "1           Placed  \n",
              "2       Not placed  \n",
              "3       Not placed  \n",
              "4       Not placed  "
            ]
          },
          "metadata": {
            "tags": []
          },
          "execution_count": 96
        }
      ]
    },
    {
      "cell_type": "markdown",
      "metadata": {
        "id": "vhEbSnOqchty"
      },
      "source": [
        "### 3.1.2) We replace missing values in \"registered_for_ Placement_Training\" with the most frequent value in \"registered_for_ Placement_Training\" column. "
      ]
    },
    {
      "cell_type": "code",
      "metadata": {
        "id": "trDxp7y9chtz",
        "outputId": "89cb4da1-4ef8-4d18-cb8f-f61b998e48b0"
      },
      "source": [
        "dataset[\"registered_for_ Placement_Training\"]=dataset[\"registered_for_ Placement_Training\"].replace(to_replace=np.nan,value=dataset[\"registered_for_ Placement_Training\"].mode()[0])  \n",
        "dataset.head()"
      ],
      "execution_count": null,
      "outputs": [
        {
          "output_type": "execute_result",
          "data": {
            "text/html": [
              "<div>\n",
              "<style scoped>\n",
              "    .dataframe tbody tr th:only-of-type {\n",
              "        vertical-align: middle;\n",
              "    }\n",
              "\n",
              "    .dataframe tbody tr th {\n",
              "        vertical-align: top;\n",
              "    }\n",
              "\n",
              "    .dataframe thead th {\n",
              "        text-align: right;\n",
              "    }\n",
              "</style>\n",
              "<table border=\"1\" class=\"dataframe\">\n",
              "  <thead>\n",
              "    <tr style=\"text-align: right;\">\n",
              "      <th></th>\n",
              "      <th>Roll No</th>\n",
              "      <th>Gender</th>\n",
              "      <th>Section</th>\n",
              "      <th>SSC Percentage</th>\n",
              "      <th>inter_Diploma_percentage</th>\n",
              "      <th>B.Tech_percentage</th>\n",
              "      <th>Backlogs</th>\n",
              "      <th>registered_for_ Placement_Training</th>\n",
              "      <th>placement status</th>\n",
              "    </tr>\n",
              "  </thead>\n",
              "  <tbody>\n",
              "    <tr>\n",
              "      <th>0</th>\n",
              "      <td>1</td>\n",
              "      <td>M</td>\n",
              "      <td>A</td>\n",
              "      <td>87.300000</td>\n",
              "      <td>65.3</td>\n",
              "      <td>40.00</td>\n",
              "      <td>18</td>\n",
              "      <td>NO</td>\n",
              "      <td>Not placed</td>\n",
              "    </tr>\n",
              "    <tr>\n",
              "      <th>1</th>\n",
              "      <td>2</td>\n",
              "      <td>F</td>\n",
              "      <td>A</td>\n",
              "      <td>89.000000</td>\n",
              "      <td>92.4</td>\n",
              "      <td>71.45</td>\n",
              "      <td>0</td>\n",
              "      <td>yes</td>\n",
              "      <td>Placed</td>\n",
              "    </tr>\n",
              "    <tr>\n",
              "      <th>2</th>\n",
              "      <td>3</td>\n",
              "      <td>F</td>\n",
              "      <td>A</td>\n",
              "      <td>67.000000</td>\n",
              "      <td>68.0</td>\n",
              "      <td>45.26</td>\n",
              "      <td>13</td>\n",
              "      <td>yes</td>\n",
              "      <td>Not placed</td>\n",
              "    </tr>\n",
              "    <tr>\n",
              "      <th>3</th>\n",
              "      <td>4</td>\n",
              "      <td>M</td>\n",
              "      <td>A</td>\n",
              "      <td>71.000000</td>\n",
              "      <td>70.4</td>\n",
              "      <td>36.47</td>\n",
              "      <td>17</td>\n",
              "      <td>yes</td>\n",
              "      <td>Not placed</td>\n",
              "    </tr>\n",
              "    <tr>\n",
              "      <th>4</th>\n",
              "      <td>5</td>\n",
              "      <td>M</td>\n",
              "      <td>A</td>\n",
              "      <td>80.474569</td>\n",
              "      <td>65.5</td>\n",
              "      <td>42.52</td>\n",
              "      <td>17</td>\n",
              "      <td>yes</td>\n",
              "      <td>Not placed</td>\n",
              "    </tr>\n",
              "  </tbody>\n",
              "</table>\n",
              "</div>"
            ],
            "text/plain": [
              "   Roll No Gender Section  SSC Percentage  inter_Diploma_percentage  \\\n",
              "0        1      M       A       87.300000                      65.3   \n",
              "1        2      F       A       89.000000                      92.4   \n",
              "2        3      F       A       67.000000                      68.0   \n",
              "3        4      M       A       71.000000                      70.4   \n",
              "4        5      M       A       80.474569                      65.5   \n",
              "\n",
              "   B.Tech_percentage  Backlogs registered_for_ Placement_Training  \\\n",
              "0              40.00        18                                 NO   \n",
              "1              71.45         0                                yes   \n",
              "2              45.26        13                                yes   \n",
              "3              36.47        17                                yes   \n",
              "4              42.52        17                                yes   \n",
              "\n",
              "  placement status  \n",
              "0       Not placed  \n",
              "1           Placed  \n",
              "2       Not placed  \n",
              "3       Not placed  \n",
              "4       Not placed  "
            ]
          },
          "metadata": {
            "tags": []
          },
          "execution_count": 97
        }
      ]
    },
    {
      "cell_type": "markdown",
      "metadata": {
        "id": "AXbTpVi-chtz"
      },
      "source": [
        "###  3.1.3) We check for missing values again and make sure that there are no missing values."
      ]
    },
    {
      "cell_type": "code",
      "metadata": {
        "id": "hFvKN30kchtz",
        "outputId": "b15f031d-f786-4486-8f26-b543dd3a2544"
      },
      "source": [
        "dataset.isna().any()"
      ],
      "execution_count": null,
      "outputs": [
        {
          "output_type": "execute_result",
          "data": {
            "text/plain": [
              "Roll No                               False\n",
              "Gender                                False\n",
              "Section                               False\n",
              "SSC Percentage                        False\n",
              "inter_Diploma_percentage              False\n",
              "B.Tech_percentage                     False\n",
              "Backlogs                              False\n",
              "registered_for_ Placement_Training    False\n",
              "placement status                      False\n",
              "dtype: bool"
            ]
          },
          "metadata": {
            "tags": []
          },
          "execution_count": 98
        }
      ]
    },
    {
      "cell_type": "markdown",
      "metadata": {
        "id": "k2S_zVQmcht0"
      },
      "source": [
        "### 3.2) Convert the strings into numbers"
      ]
    },
    {
      "cell_type": "markdown",
      "metadata": {
        "id": "VUXX6EJ3cht0"
      },
      "source": [
        "###  Most of the classification algorithms cannot handle string information. So, Its better to change the string into numbers"
      ]
    },
    {
      "cell_type": "code",
      "metadata": {
        "id": "pQTZJGEecht0"
      },
      "source": [
        "dataset['Gender'] = dataset['Gender'].map({'M': 0, 'F': 1})\n",
        "dataset['Section']=dataset['Section'].map({'A':0,'B':1})\n",
        "dataset['registered_for_ Placement_Training']=dataset['registered_for_ Placement_Training'].map({'NO':0,'yes':1})"
      ],
      "execution_count": null,
      "outputs": []
    },
    {
      "cell_type": "markdown",
      "metadata": {
        "id": "DMHnzTNUcht0"
      },
      "source": [
        "### Now have a look at our dataset again."
      ]
    },
    {
      "cell_type": "code",
      "metadata": {
        "id": "Iv9sd5Wscht1",
        "outputId": "e1b1b807-1987-409c-84cf-6aad26da4d6c"
      },
      "source": [
        "dataset.head()"
      ],
      "execution_count": null,
      "outputs": [
        {
          "output_type": "execute_result",
          "data": {
            "text/html": [
              "<div>\n",
              "<style scoped>\n",
              "    .dataframe tbody tr th:only-of-type {\n",
              "        vertical-align: middle;\n",
              "    }\n",
              "\n",
              "    .dataframe tbody tr th {\n",
              "        vertical-align: top;\n",
              "    }\n",
              "\n",
              "    .dataframe thead th {\n",
              "        text-align: right;\n",
              "    }\n",
              "</style>\n",
              "<table border=\"1\" class=\"dataframe\">\n",
              "  <thead>\n",
              "    <tr style=\"text-align: right;\">\n",
              "      <th></th>\n",
              "      <th>Roll No</th>\n",
              "      <th>Gender</th>\n",
              "      <th>Section</th>\n",
              "      <th>SSC Percentage</th>\n",
              "      <th>inter_Diploma_percentage</th>\n",
              "      <th>B.Tech_percentage</th>\n",
              "      <th>Backlogs</th>\n",
              "      <th>registered_for_ Placement_Training</th>\n",
              "      <th>placement status</th>\n",
              "    </tr>\n",
              "  </thead>\n",
              "  <tbody>\n",
              "    <tr>\n",
              "      <th>0</th>\n",
              "      <td>1</td>\n",
              "      <td>0</td>\n",
              "      <td>0</td>\n",
              "      <td>87.300000</td>\n",
              "      <td>65.3</td>\n",
              "      <td>40.00</td>\n",
              "      <td>18</td>\n",
              "      <td>0</td>\n",
              "      <td>Not placed</td>\n",
              "    </tr>\n",
              "    <tr>\n",
              "      <th>1</th>\n",
              "      <td>2</td>\n",
              "      <td>1</td>\n",
              "      <td>0</td>\n",
              "      <td>89.000000</td>\n",
              "      <td>92.4</td>\n",
              "      <td>71.45</td>\n",
              "      <td>0</td>\n",
              "      <td>1</td>\n",
              "      <td>Placed</td>\n",
              "    </tr>\n",
              "    <tr>\n",
              "      <th>2</th>\n",
              "      <td>3</td>\n",
              "      <td>1</td>\n",
              "      <td>0</td>\n",
              "      <td>67.000000</td>\n",
              "      <td>68.0</td>\n",
              "      <td>45.26</td>\n",
              "      <td>13</td>\n",
              "      <td>1</td>\n",
              "      <td>Not placed</td>\n",
              "    </tr>\n",
              "    <tr>\n",
              "      <th>3</th>\n",
              "      <td>4</td>\n",
              "      <td>0</td>\n",
              "      <td>0</td>\n",
              "      <td>71.000000</td>\n",
              "      <td>70.4</td>\n",
              "      <td>36.47</td>\n",
              "      <td>17</td>\n",
              "      <td>1</td>\n",
              "      <td>Not placed</td>\n",
              "    </tr>\n",
              "    <tr>\n",
              "      <th>4</th>\n",
              "      <td>5</td>\n",
              "      <td>0</td>\n",
              "      <td>0</td>\n",
              "      <td>80.474569</td>\n",
              "      <td>65.5</td>\n",
              "      <td>42.52</td>\n",
              "      <td>17</td>\n",
              "      <td>1</td>\n",
              "      <td>Not placed</td>\n",
              "    </tr>\n",
              "  </tbody>\n",
              "</table>\n",
              "</div>"
            ],
            "text/plain": [
              "   Roll No  Gender  Section  SSC Percentage  inter_Diploma_percentage  \\\n",
              "0        1       0        0       87.300000                      65.3   \n",
              "1        2       1        0       89.000000                      92.4   \n",
              "2        3       1        0       67.000000                      68.0   \n",
              "3        4       0        0       71.000000                      70.4   \n",
              "4        5       0        0       80.474569                      65.5   \n",
              "\n",
              "   B.Tech_percentage  Backlogs  registered_for_ Placement_Training  \\\n",
              "0              40.00        18                                   0   \n",
              "1              71.45         0                                   1   \n",
              "2              45.26        13                                   1   \n",
              "3              36.47        17                                   1   \n",
              "4              42.52        17                                   1   \n",
              "\n",
              "  placement status  \n",
              "0       Not placed  \n",
              "1           Placed  \n",
              "2       Not placed  \n",
              "3       Not placed  \n",
              "4       Not placed  "
            ]
          },
          "metadata": {
            "tags": []
          },
          "execution_count": 100
        }
      ]
    },
    {
      "cell_type": "markdown",
      "metadata": {
        "id": "KjC58XLScht1"
      },
      "source": [
        "## 4) Divide the data into features and labels.\n",
        "We are considering __\"Gender\",\"Section\",\"SSC  Percentage\",\"inter_Diploma_percentage\",\"B.Tech_percentage\",\"Backlogs\", \"registered_for_ Placement_Training\"__ as our features and __\"placement status\"__ as our label."
      ]
    },
    {
      "cell_type": "code",
      "metadata": {
        "id": "sphqKSvCcht1"
      },
      "source": [
        "# features\n",
        "X=dataset[[\"Gender\",\"Section\",\"SSC Percentage\",\"inter_Diploma_percentage\",\"B.Tech_percentage\",\"Backlogs\",\"registered_for_ Placement_Training\"]].values"
      ],
      "execution_count": null,
      "outputs": []
    },
    {
      "cell_type": "code",
      "metadata": {
        "id": "YK7oH-UNcht1"
      },
      "source": [
        "# Labels\n",
        "y=dataset[\"placement status\"]"
      ],
      "execution_count": null,
      "outputs": []
    },
    {
      "cell_type": "markdown",
      "metadata": {
        "id": "RjuHNfwkcht2"
      },
      "source": [
        "## 5) Now split the data in training data and test data.\n",
        "Note:training data is used to built the model and test data is used to evaluate the model."
      ]
    },
    {
      "cell_type": "code",
      "metadata": {
        "id": "JoWvehgRcht2"
      },
      "source": [
        "X_train, X_test, y_train, y_test = train_test_split(X, y, test_size=0.2, random_state=10)"
      ],
      "execution_count": null,
      "outputs": []
    },
    {
      "cell_type": "markdown",
      "metadata": {
        "id": "vmGyjv2icht2"
      },
      "source": [
        "# Now, Let's apply different models"
      ]
    },
    {
      "cell_type": "markdown",
      "metadata": {
        "id": "Qmj1DV7Kcht2"
      },
      "source": [
        "#  <span style=\"color:red\"> <center> 1) Random forest </centre> </span>"
      ]
    },
    {
      "cell_type": "code",
      "metadata": {
        "id": "8TK3-h-tcht3"
      },
      "source": [
        "# Create Decision Tree classifer object. Note: We will build 100 weak classifier- Decision trees\n",
        "rf_model=RandomForestClassifier(n_estimators=100) "
      ],
      "execution_count": null,
      "outputs": []
    },
    {
      "cell_type": "code",
      "metadata": {
        "id": "K8Zmfiqfcht3",
        "outputId": "2bde7084-942d-40bf-e6ca-a392451882a3"
      },
      "source": [
        "rf_model.fit(X_train,y_train) # Build the model using training data"
      ],
      "execution_count": null,
      "outputs": [
        {
          "output_type": "execute_result",
          "data": {
            "text/plain": [
              "RandomForestClassifier()"
            ]
          },
          "metadata": {
            "tags": []
          },
          "execution_count": 114
        }
      ]
    },
    {
      "cell_type": "code",
      "metadata": {
        "id": "QIuAG9DPcht3"
      },
      "source": [
        "y_pred_rf=rf_model.predict(X_test) # Apply the model on test data."
      ],
      "execution_count": null,
      "outputs": []
    },
    {
      "cell_type": "markdown",
      "metadata": {
        "id": "MUj5wNTlcht3"
      },
      "source": [
        "### Draw the confusion matrix of Random forest"
      ]
    },
    {
      "cell_type": "code",
      "metadata": {
        "id": "SYu859lscht3",
        "outputId": "d972d7f5-9d91-4890-91cc-1b81fd43ec1e"
      },
      "source": [
        "from sklearn.metrics import confusion_matrix\n",
        "\n",
        "pd.DataFrame(\n",
        "    confusion_matrix(y_test, y_pred_rf),\n",
        "    columns=['Not placed Predicted', 'placed predicted'],\n",
        "    index=['Not placed', 'placed']\n",
        ")"
      ],
      "execution_count": null,
      "outputs": [
        {
          "output_type": "execute_result",
          "data": {
            "text/html": [
              "<div>\n",
              "<style scoped>\n",
              "    .dataframe tbody tr th:only-of-type {\n",
              "        vertical-align: middle;\n",
              "    }\n",
              "\n",
              "    .dataframe tbody tr th {\n",
              "        vertical-align: top;\n",
              "    }\n",
              "\n",
              "    .dataframe thead th {\n",
              "        text-align: right;\n",
              "    }\n",
              "</style>\n",
              "<table border=\"1\" class=\"dataframe\">\n",
              "  <thead>\n",
              "    <tr style=\"text-align: right;\">\n",
              "      <th></th>\n",
              "      <th>Not placed Predicted</th>\n",
              "      <th>placed predicted</th>\n",
              "    </tr>\n",
              "  </thead>\n",
              "  <tbody>\n",
              "    <tr>\n",
              "      <th>Not placed</th>\n",
              "      <td>12</td>\n",
              "      <td>2</td>\n",
              "    </tr>\n",
              "    <tr>\n",
              "      <th>placed</th>\n",
              "      <td>3</td>\n",
              "      <td>7</td>\n",
              "    </tr>\n",
              "  </tbody>\n",
              "</table>\n",
              "</div>"
            ],
            "text/plain": [
              "            Not placed Predicted  placed predicted\n",
              "Not placed                    12                 2\n",
              "placed                         3                 7"
            ]
          },
          "metadata": {
            "tags": []
          },
          "execution_count": 117
        }
      ]
    },
    {
      "cell_type": "code",
      "metadata": {
        "id": "Ekem7eX-cht4",
        "outputId": "bb91a2bb-0258-46cb-a35a-a651fb20d5f6"
      },
      "source": [
        "print(\"Accuracy:\",metrics.accuracy_score(y_test, y_pred_rm))"
      ],
      "execution_count": null,
      "outputs": [
        {
          "output_type": "stream",
          "text": [
            "Accuracy: 0.8333333333333334\n"
          ],
          "name": "stdout"
        }
      ]
    },
    {
      "cell_type": "markdown",
      "metadata": {
        "id": "X4L7DR2Fcht4"
      },
      "source": [
        "#  <span style=\"color:red\"> <center> 2) Decision tree </centre> </span>"
      ]
    },
    {
      "cell_type": "code",
      "metadata": {
        "id": "EjrtdF5bcht4"
      },
      "source": [
        "model_DT = DecisionTreeClassifier() # Create Decision Tree classifer object\n",
        "model_DT = model_DT.fit(X_train,y_train) # Build the model using training data\n",
        "y_pred_DT = model_DT.predict(X_test) # Apply the model on test data."
      ],
      "execution_count": null,
      "outputs": []
    },
    {
      "cell_type": "markdown",
      "metadata": {
        "id": "mXpp5Ko9cht4"
      },
      "source": [
        "### Draw the confusion matrix of Decision tree"
      ]
    },
    {
      "cell_type": "code",
      "metadata": {
        "id": "3hw9U-Y3cht5",
        "outputId": "826a2afd-7298-4938-aabe-0cf0faaf8608"
      },
      "source": [
        "from sklearn.metrics import confusion_matrix\n",
        "\n",
        "pd.DataFrame(\n",
        "    confusion_matrix(y_test, y_pred_DT),\n",
        "    columns=['Not placed Predicted', 'placed predicted'],\n",
        "    index=['Not placed', 'placed']\n",
        ")"
      ],
      "execution_count": null,
      "outputs": [
        {
          "output_type": "execute_result",
          "data": {
            "text/html": [
              "<div>\n",
              "<style scoped>\n",
              "    .dataframe tbody tr th:only-of-type {\n",
              "        vertical-align: middle;\n",
              "    }\n",
              "\n",
              "    .dataframe tbody tr th {\n",
              "        vertical-align: top;\n",
              "    }\n",
              "\n",
              "    .dataframe thead th {\n",
              "        text-align: right;\n",
              "    }\n",
              "</style>\n",
              "<table border=\"1\" class=\"dataframe\">\n",
              "  <thead>\n",
              "    <tr style=\"text-align: right;\">\n",
              "      <th></th>\n",
              "      <th>Not placed Predicted</th>\n",
              "      <th>placed predicted</th>\n",
              "    </tr>\n",
              "  </thead>\n",
              "  <tbody>\n",
              "    <tr>\n",
              "      <th>Not placed</th>\n",
              "      <td>10</td>\n",
              "      <td>4</td>\n",
              "    </tr>\n",
              "    <tr>\n",
              "      <th>placed</th>\n",
              "      <td>4</td>\n",
              "      <td>6</td>\n",
              "    </tr>\n",
              "  </tbody>\n",
              "</table>\n",
              "</div>"
            ],
            "text/plain": [
              "            Not placed Predicted  placed predicted\n",
              "Not placed                    10                 4\n",
              "placed                         4                 6"
            ]
          },
          "metadata": {
            "tags": []
          },
          "execution_count": 119
        }
      ]
    },
    {
      "cell_type": "code",
      "metadata": {
        "id": "zQhApKDDcht5",
        "outputId": "e4435afa-2157-45a3-b52d-958094f3072c"
      },
      "source": [
        "print(\"Accuracy:\",metrics.accuracy_score(y_test, y_pred_DT))"
      ],
      "execution_count": null,
      "outputs": [
        {
          "output_type": "stream",
          "text": [
            "Accuracy: 0.6666666666666666\n"
          ],
          "name": "stdout"
        }
      ]
    },
    {
      "cell_type": "markdown",
      "metadata": {
        "id": "3pNFjPzXcht5"
      },
      "source": [
        "# Random forest is performing better than Decision tree"
      ]
    },
    {
      "cell_type": "markdown",
      "metadata": {
        "id": "PvhA2bvicht5"
      },
      "source": [
        "#  <span style=\"color:red\"> <center> 3) AdaBoost </centre> </span>"
      ]
    },
    {
      "cell_type": "code",
      "metadata": {
        "id": "apbS-2Jhcht5"
      },
      "source": [
        "ada_model = AdaBoostClassifier(n_estimators=50) # Note: We are building 50 weak classifiers."
      ],
      "execution_count": null,
      "outputs": []
    },
    {
      "cell_type": "code",
      "metadata": {
        "id": "OjmX2HbOcht6",
        "outputId": "03eaccc6-304c-4fb7-9698-8ef6742d4c7f"
      },
      "source": [
        "ada_model.fit(X_train,y_train) # Build the model using training data"
      ],
      "execution_count": null,
      "outputs": [
        {
          "output_type": "execute_result",
          "data": {
            "text/plain": [
              "AdaBoostClassifier()"
            ]
          },
          "metadata": {
            "tags": []
          },
          "execution_count": 87
        }
      ]
    },
    {
      "cell_type": "code",
      "metadata": {
        "id": "IXEdHssrcht6"
      },
      "source": [
        "y_pred_ada=ada_model.predict(X_test) # Apply the model on test data."
      ],
      "execution_count": null,
      "outputs": []
    },
    {
      "cell_type": "markdown",
      "metadata": {
        "id": "ychEJttpcht6"
      },
      "source": [
        "### Draw the confusion matrix of Adaboost"
      ]
    },
    {
      "cell_type": "code",
      "metadata": {
        "id": "gJ4BOVGkcht6",
        "outputId": "42ca9e4e-8d70-49bc-8792-e74773a89b77"
      },
      "source": [
        "from sklearn.metrics import confusion_matrix\n",
        "\n",
        "pd.DataFrame(\n",
        "    confusion_matrix(y_test, y_pred_ada),\n",
        "    columns=['Not placed Predicted', 'placed predicted'],\n",
        "    index=['Not placed', 'placed']\n",
        ")"
      ],
      "execution_count": null,
      "outputs": [
        {
          "output_type": "execute_result",
          "data": {
            "text/html": [
              "<div>\n",
              "<style scoped>\n",
              "    .dataframe tbody tr th:only-of-type {\n",
              "        vertical-align: middle;\n",
              "    }\n",
              "\n",
              "    .dataframe tbody tr th {\n",
              "        vertical-align: top;\n",
              "    }\n",
              "\n",
              "    .dataframe thead th {\n",
              "        text-align: right;\n",
              "    }\n",
              "</style>\n",
              "<table border=\"1\" class=\"dataframe\">\n",
              "  <thead>\n",
              "    <tr style=\"text-align: right;\">\n",
              "      <th></th>\n",
              "      <th>Not placed Predicted</th>\n",
              "      <th>placed predicted</th>\n",
              "    </tr>\n",
              "  </thead>\n",
              "  <tbody>\n",
              "    <tr>\n",
              "      <th>Not placed</th>\n",
              "      <td>12</td>\n",
              "      <td>2</td>\n",
              "    </tr>\n",
              "    <tr>\n",
              "      <th>placed</th>\n",
              "      <td>3</td>\n",
              "      <td>7</td>\n",
              "    </tr>\n",
              "  </tbody>\n",
              "</table>\n",
              "</div>"
            ],
            "text/plain": [
              "            Not placed Predicted  placed predicted\n",
              "Not placed                    12                 2\n",
              "placed                         3                 7"
            ]
          },
          "metadata": {
            "tags": []
          },
          "execution_count": 122
        }
      ]
    },
    {
      "cell_type": "code",
      "metadata": {
        "id": "06wTYlU9cht6",
        "outputId": "597c8439-3686-457f-dfec-05594c39c420"
      },
      "source": [
        "print(\"Accuracy:\",metrics.accuracy_score(y_test, y_pred_ada))"
      ],
      "execution_count": null,
      "outputs": [
        {
          "output_type": "stream",
          "text": [
            "Accuracy: 0.7916666666666666\n"
          ],
          "name": "stdout"
        }
      ]
    },
    {
      "cell_type": "markdown",
      "metadata": {
        "id": "ksn2a70Qcht7"
      },
      "source": [
        "# Adaboost is performing better than Decision trees"
      ]
    },
    {
      "cell_type": "code",
      "metadata": {
        "id": "sKlnuZ13cht7"
      },
      "source": [
        ""
      ],
      "execution_count": null,
      "outputs": []
    }
  ]
}