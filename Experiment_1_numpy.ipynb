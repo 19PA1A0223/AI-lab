{
  "nbformat": 4,
  "nbformat_minor": 0,
  "metadata": {
    "kernelspec": {
      "display_name": "Python 3",
      "language": "python",
      "name": "python3"
    },
    "language_info": {
      "codemirror_mode": {
        "name": "ipython",
        "version": 3
      },
      "file_extension": ".py",
      "mimetype": "text/x-python",
      "name": "python",
      "nbconvert_exporter": "python",
      "pygments_lexer": "ipython3",
      "version": "3.8.3"
    },
    "colab": {
      "name": "Experiment 1 numpy.ipynb",
      "provenance": [],
      "include_colab_link": true
    }
  },
  "cells": [
    {
      "cell_type": "markdown",
      "metadata": {
        "id": "view-in-github",
        "colab_type": "text"
      },
      "source": [
        "<a href=\"https://colab.research.google.com/github/19PA1A0223/AI-lab/blob/main/Experiment_1_numpy.ipynb\" target=\"_parent\"><img src=\"https://colab.research.google.com/assets/colab-badge.svg\" alt=\"Open In Colab\"/></a>"
      ]
    },
    {
      "cell_type": "markdown",
      "metadata": {
        "id": "kD26lfHzUC7A"
      },
      "source": [
        "# 1) NumPy \n",
        "* Different ways to create NumPy arrays \n",
        "* Add, remove, modify elements in an array. \n",
        "* Arithmetic operations on NumPy array \n",
        "* Slicing and iterating of NumPy arrays \n",
        "* Matrix operations on NumPy arrays \n"
      ]
    },
    {
      "cell_type": "markdown",
      "metadata": {
        "id": "LK2wjVCXUC7D"
      },
      "source": [
        "## 1)Different ways to create a Numpy arrays."
      ]
    },
    {
      "cell_type": "code",
      "metadata": {
        "id": "IwmqtNeTUC7E",
        "outputId": "8504abbf-1ada-44f9-e719-d26a9b9e076c"
      },
      "source": [
        "# Create a numpy array\n",
        "import numpy as np\n",
        "x = np.array([1,2,3])\n",
        "print(x)"
      ],
      "execution_count": null,
      "outputs": [
        {
          "output_type": "stream",
          "text": [
            "[1 2 3]\n"
          ],
          "name": "stdout"
        }
      ]
    },
    {
      "cell_type": "code",
      "metadata": {
        "id": "Xp3DHaKbUC7F",
        "outputId": "0cdbe42c-7232-4005-e307-f4f53e1f1489"
      },
      "source": [
        "#  Create a 2d array\n",
        "y = np.array([[4,5,6],[7,8,9]])\n",
        "print(y)"
      ],
      "execution_count": null,
      "outputs": [
        {
          "output_type": "stream",
          "text": [
            "[[4 5 6]\n",
            " [7 8 9]]\n"
          ],
          "name": "stdout"
        }
      ]
    },
    {
      "cell_type": "code",
      "metadata": {
        "id": "uPLyaFsEUC7G",
        "outputId": "da8001f4-9bd7-4463-9fad-fbef493e6d52"
      },
      "source": [
        "# Craete a numpy array from 10 to 30 with intervel of 5\n",
        "import numpy as np\n",
        "np.arange( 10, 30, 5 )"
      ],
      "execution_count": null,
      "outputs": [
        {
          "output_type": "execute_result",
          "data": {
            "text/plain": [
              "array([10, 15, 20, 25])"
            ]
          },
          "metadata": {
            "tags": []
          },
          "execution_count": 10
        }
      ]
    },
    {
      "cell_type": "markdown",
      "metadata": {
        "id": "Z6QoOpi9UC7G"
      },
      "source": [
        "## 2) Add, remove, modify elements in an array."
      ]
    },
    {
      "cell_type": "markdown",
      "metadata": {
        "id": "hLyab_MJUC7H"
      },
      "source": [
        "### 2.1) Adding an element to an array"
      ]
    },
    {
      "cell_type": "code",
      "metadata": {
        "id": "9_DqFD5gUC7H",
        "outputId": "f206d221-5369-44c6-a865-b9b8079cb056"
      },
      "source": [
        "b = np.append(x,[6,4,2])\n",
        "print(b)"
      ],
      "execution_count": null,
      "outputs": [
        {
          "output_type": "stream",
          "text": [
            "[1 2 3 6 4 2]\n"
          ],
          "name": "stdout"
        }
      ]
    },
    {
      "cell_type": "markdown",
      "metadata": {
        "id": "P99djlrAUC7H"
      },
      "source": [
        "### 2.2) Remove element/s from an array"
      ]
    },
    {
      "cell_type": "code",
      "metadata": {
        "id": "xdiO466XUC7I",
        "outputId": "e2301c88-c10f-4533-80ca-546d62b870d4"
      },
      "source": [
        "print(\"The elements in X before deleting\",x)\n",
        "newarray = np.delete(x,2) # Element at index 2 is removed.\n",
        "print(\"The elements in X after deleting\",newarray) "
      ],
      "execution_count": null,
      "outputs": [
        {
          "output_type": "stream",
          "text": [
            "The elements in X before deleting [1 2 3]\n",
            "The elements in X after deleting [1 2]\n"
          ],
          "name": "stdout"
        }
      ]
    },
    {
      "cell_type": "markdown",
      "metadata": {
        "id": "xRkKtCe4UC7I"
      },
      "source": [
        "### 2.3) Modify elements in the array"
      ]
    },
    {
      "cell_type": "code",
      "metadata": {
        "id": "JZfVvuAuUC7J",
        "outputId": "02b9ebe5-a4fc-4608-cf43-09d500ea6a6d"
      },
      "source": [
        "b = np.array([6,4,1,3,5,9])\n",
        "b[b<4] = -1 # Elements less than 4 are replaced with \"-1\"\n",
        "print(b)"
      ],
      "execution_count": null,
      "outputs": [
        {
          "output_type": "stream",
          "text": [
            "[ 6  4 -1 -1  5  9]\n"
          ],
          "name": "stdout"
        }
      ]
    },
    {
      "cell_type": "markdown",
      "metadata": {
        "id": "xN8TQ1bdUC7J"
      },
      "source": [
        "## 3) Arithmetic operations on NumPy array"
      ]
    },
    {
      "cell_type": "code",
      "metadata": {
        "id": "KiEcMbcJUC7J",
        "outputId": "5c299151-6c03-4191-e6fa-cd637baaa5cb"
      },
      "source": [
        "# Let's create two arrays\n",
        "a = np.array( [20,30,40,50] )\n",
        "b = np.arange( 4 )\n",
        "print(\"The elements in a are\",a)\n",
        "print(\"The elements in b are\",b)\n",
        "\n",
        "print(\"Result after Addition\",a+b)\n",
        "print(\"Result after substraction\",a-b)\n",
        "print(\"Result after multiplication\",a*b)\n",
        "print(\"Result after division\",a/b) # Even python is able to handle divided by 0 error by just a warning\n",
        "\n",
        "print(\"Result after increasing the number to the power of 4\",b**4) # Scalar multiplication(power)\n",
        "\n",
        "print(\"Result after applying sin and multiplying with 10\",10*np.sin(a)) # trignometric functions are available in numpy package\n",
        "\n",
        "a[0] +=10 # This is equalient to a[0]=a[0]+10\n",
        "print(\"Result after adding first element with 10\",a)\n",
        "\n",
        "print(np.dot(a,b)) # Matrix multiplication"
      ],
      "execution_count": null,
      "outputs": [
        {
          "output_type": "stream",
          "text": [
            "The elements in a are [20 30 40 50]\n",
            "The elements in b are [0 1 2 3]\n",
            "Result after Addition [20 31 42 53]\n",
            "Result after substraction [20 29 38 47]\n",
            "Result after multiplication [  0  30  80 150]\n",
            "Result after division [        inf 30.         20.         16.66666667]\n",
            "Result after increasing the number to the power of 4 [ 0  1 16 81]\n",
            "Result after applying sin and multiplying with 10 [ 9.12945251 -9.88031624  7.4511316  -2.62374854]\n",
            "Result after adding first element with 10 [30 30 40 50]\n",
            "260\n"
          ],
          "name": "stdout"
        },
        {
          "output_type": "stream",
          "text": [
            "<ipython-input-27-fb6e41aaac66>:10: RuntimeWarning: divide by zero encountered in true_divide\n",
            "  print(\"Result after division\",a/b) # Even python is able to handle divided by 0 error by just a warning\n"
          ],
          "name": "stderr"
        }
      ]
    },
    {
      "cell_type": "markdown",
      "metadata": {
        "id": "SLj15XTlUC7K"
      },
      "source": [
        "## 4) Slicing and iterating of NumPy arrays"
      ]
    },
    {
      "cell_type": "markdown",
      "metadata": {
        "id": "5MnaNzO0UC7K"
      },
      "source": [
        "### 4.1) Slicing 1-D array"
      ]
    },
    {
      "cell_type": "code",
      "metadata": {
        "id": "knpAPfl7UC7L",
        "outputId": "1f2ae434-c1a4-486e-de51-f6bd857efd74"
      },
      "source": [
        "# Slicing a 1-D array\n",
        "\n",
        "a=np.arange(10)**3\n",
        "print(\"Let's consider the elements\",a)\n",
        "\n",
        "print(\"The output of a[2] is\", a[2]) # Prints the element at index 2. i.e 3rd element of the array a\n",
        "print(\"The output of a[2:4] is\",a[2:4]) # Prints the element from index 2 to index 3. Note that a[2:4] means elements from 2 upto 4 (But not including 4).\n",
        "print(\"The output of a[2:3] is\",a[2:3]) # Note that this returns an array with 1 element. But a[2] returns a scalar element\n",
        "\n",
        "print(\"The output of a[-1] is\",a[-1]) # prints last element\n",
        "print(\"The output of a[-2] is\",a[-2]) # prints last but element\n",
        "print(\"The output of a[-5:-2] is\",a[-5:-2]) # prints 5th ,6th and 7th element. i.e -5,-4,-3"
      ],
      "execution_count": null,
      "outputs": [
        {
          "output_type": "stream",
          "text": [
            "Let's consider the elements [  0   1   8  27  64 125 216 343 512 729]\n",
            "The output of a[2] is 8\n",
            "The output of a[2:4] is [ 8 27]\n",
            "The output of a[2:3] is [8]\n",
            "The output of a[-1] is 729\n",
            "The output of a[-2] is 512\n",
            "The output of a[-5:-2] is [125 216 343]\n"
          ],
          "name": "stdout"
        }
      ]
    },
    {
      "cell_type": "markdown",
      "metadata": {
        "id": "_Trq_tLOUC7L"
      },
      "source": [
        "### 4.1) Slicing 2-D array"
      ]
    },
    {
      "cell_type": "code",
      "metadata": {
        "id": "s95SyfPgUC7L",
        "outputId": "ddf28275-afc8-4a51-c75d-ebda414f4c24"
      },
      "source": [
        "# Slicing a 2-D array\n",
        "\n",
        "a=np.arange(12).reshape(4,3)**2 # Create an array \"a\" with square of numbers from 0 to 11.\n",
        "print(\"The output of a[2] is\",a)\n",
        "\n",
        "print(\"The output of a[1:3] is\",a[1:3]) # Prints second and third rows\n",
        "print(\"The output of a[1:3,1:2] is\",a[1:3,1:2]) # from second and third rows, print second column\n",
        "print(\"The output of a[2,] is\",a[2,])# print 3rd row\n",
        "print(\"The output of a[:3,] is\",a[:3,])# print 1st, 2nd and 3rd row\n",
        "\n",
        "print(\"The output of a[-1,] is\",a[-1,]) # Prints last row\n",
        "print(\"The output of a[-1,-1] is\",a[-1,-1]) # print element at last row and last column\n"
      ],
      "execution_count": null,
      "outputs": [
        {
          "output_type": "stream",
          "text": [
            "The output of a[2] is [[  0   1   4]\n",
            " [  9  16  25]\n",
            " [ 36  49  64]\n",
            " [ 81 100 121]]\n",
            "The output of a[1:3] is [[ 9 16 25]\n",
            " [36 49 64]]\n",
            "The output of a[1:3,1:2] is [[16]\n",
            " [49]]\n",
            "The output of a[2,] is [36 49 64]\n",
            "The output of a[:3,] is [[ 0  1  4]\n",
            " [ 9 16 25]\n",
            " [36 49 64]]\n",
            "The output of a[-1,] is [ 81 100 121]\n",
            "The output of a[-1,-1] is 121\n"
          ],
          "name": "stdout"
        }
      ]
    },
    {
      "cell_type": "markdown",
      "metadata": {
        "id": "VBeayzqWUC7M"
      },
      "source": [
        "### 4.3) Iterating\n",
        "Iterating over multidimensional arrays is done with respect to the first axis."
      ]
    },
    {
      "cell_type": "code",
      "metadata": {
        "id": "WDi-EXWfUC7M",
        "outputId": "5b48cc5c-4d50-43a7-8a75-e230fca636df"
      },
      "source": [
        "a=np.arange(12).reshape(4,3)**2 # Create an array \"a\" with square of numbers from 0 to 11.\n",
        "print(\"Let's consider an array\",a)\n",
        "print(\"\\n\")\n",
        "for i in a:\n",
        "    print(i)"
      ],
      "execution_count": null,
      "outputs": [
        {
          "output_type": "stream",
          "text": [
            "Let's consider an array [[  0   1   4]\n",
            " [  9  16  25]\n",
            " [ 36  49  64]\n",
            " [ 81 100 121]]\n",
            "\n",
            "\n",
            "[0 1 4]\n",
            "[ 9 16 25]\n",
            "[36 49 64]\n",
            "[ 81 100 121]\n"
          ],
          "name": "stdout"
        }
      ]
    },
    {
      "cell_type": "markdown",
      "metadata": {
        "id": "mgUXirBPUC7M"
      },
      "source": [
        "## 5)Matrix operations on NumPy arrays"
      ]
    },
    {
      "cell_type": "code",
      "metadata": {
        "id": "8d7Ojl1aUC7N",
        "outputId": "70241bbe-a5ce-4e54-bb59-541b328ee10c"
      },
      "source": [
        "a=np.floor(10*np.random.random((3,4))) # Create a rondom 3*4 matrix.\n",
        "print(\"Let's consider a 1-D array\\n\",a)\n",
        "print(\"After reshaping to 2 by 6 matrix\\n\",a.reshape(2,6))\n",
        "print(\"To Flatten the array\\n\",a.ravel())\n",
        "print(\"To transpose the array\\n\",a.T)"
      ],
      "execution_count": null,
      "outputs": [
        {
          "output_type": "stream",
          "text": [
            "Let's consider a 1-D array\n",
            " [[6. 2. 4. 5.]\n",
            " [1. 0. 6. 4.]\n",
            " [1. 7. 4. 8.]]\n",
            "After reshaping to 2 by 6 matrix\n",
            " [[6. 2. 4. 5. 1. 0.]\n",
            " [6. 4. 1. 7. 4. 8.]]\n",
            "To Flatten the array\n",
            " [6. 2. 4. 5. 1. 0. 6. 4. 1. 7. 4. 8.]\n",
            "To transpose the array\n",
            " [[6. 1. 1.]\n",
            " [2. 0. 7.]\n",
            " [4. 6. 4.]\n",
            " [5. 4. 8.]]\n"
          ],
          "name": "stdout"
        }
      ]
    },
    {
      "cell_type": "code",
      "metadata": {
        "id": "lsoN4YDUUC7N"
      },
      "source": [
        ""
      ],
      "execution_count": null,
      "outputs": []
    }
  ]
}